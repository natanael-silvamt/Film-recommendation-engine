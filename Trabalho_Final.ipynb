{
 "cells": [
  {
   "cell_type": "code",
   "execution_count": 1,
   "metadata": {},
   "outputs": [],
   "source": [
    "%matplotlib inline\n",
    "import pandas as pd\n",
    "import numpy as np\n",
    "import matplotlib.pyplot as plt\n",
    "import json\n",
    "from ast import literal_eval\n",
    "from sklearn.preprocessing import Imputer\n",
    "from sklearn.neighbors import NearestNeighbors\n",
    "from fuzzywuzzy import fuzz\n",
    "from sklearn.feature_extraction.text import TfidfVectorizer\n",
    "from sklearn.metrics.pairwise import linear_kernel\n",
    "import warnings; warnings.simplefilter('ignore')"
   ]
  },
  {
   "cell_type": "markdown",
   "metadata": {},
   "source": [
    "# Problema\n",
    "+ O problema proposto é um mecanismo para recomendação de filmes. Esse mecanismo deve ser capaz de dado uma entrada pelo usuário(nome de um filme) o sistema seja capaz de recomendar 5 novos filmes semelhantes ao que o usuário informou.  \n",
    "  \n",
    "# Funcionamento\n",
    "+ A recomendação é baseada pelo conteudo do filme(diretor, titulo, ano de lançamento, atores, palavras, entre outros), dessa forma o usuário informa um filme e apartir dessa entrada será calculada a semelhança desse filme com o restante do dataset, a priori será formado uma lista com 50 filmes, dessa lista vai ser recomendado ao usuário 5 filmes mais semelhantes ao que ele informou.  \n",
    "\n",
    "# Dados\n",
    "+ Os dados disponibilizados contêm metadados para todos os 45.000 filmes listados no Conjunto de Dados Completo do MovieLens. O conjunto de dados consiste em filmes lançados em julho de 2017 ou antes. Os dados incluem elenco, equipe, palavras-chave, orçamento, receita, cartazes, datas de lançamento, idiomas, empresas de produção, países, contagem de votos TMDB e médias de votos.  \n",
    "+ Este conjunto de dados também possui arquivos contendo 26 milhões de avaliações de 270.000 usuários para todos os 45.000 filmes. As classificações estão em uma escala de 1 a 5 e foram obtidas no site oficial do GroupLens.  \n",
    "\n",
    "## Datasets Originais  \n",
    "**movies_metadata.csv:** O principal arquivo de Metadados de Filmes. Contém informações sobre 45.000 filmes apresentados no conjunto de dados Full MovieLens. Os recursos incluem cartazes, panos de fundo, orçamento, receita, datas de lançamento, idiomas, países de produção e empresas.\n",
    "\n",
    "**keywords.csv:** Contém as palavras-chave do enredo do filme para nossos filmes do MovieLens. Disponível na forma de um Objeto JSON com string.\n",
    "\n",
    "**credits.csv:** Consiste em informações sobre o elenco e a equipe para todos os nossos filmes. Disponível na forma de um Objeto JSON com string.\n",
    "\n",
    "**links.csv:** O arquivo que contém os IDs TMDB e IMDB de todos os filmes apresentados no conjunto de dados Full MovieLens.\n",
    "\n",
    "**links_small.csv:** Contém os IDs TMDB e IMDB de um pequeno subconjunto de 9.000 filmes do Dataset Completo.\n",
    "\n",
    "**ratings_small.csv:** O subconjunto de 100.000 avaliações de 700 usuários em 9.000 filmes.  \n",
    "\n",
    "## Datasets Reduzidos  \n",
    "**tmdb_5000_credits.csv:** Contém dados sobre o elenco e a equipe técnica do filme, possui dados de 5.000 mil filmes.  \n",
    "\n",
    "**tmdb_5000_movies.csv:** Contém informações sobre os filmes, tais como, titulo, ano de lançamento, media de votos, entre outros.\n",
    "\n",
    "\n",
    "  \n",
    "  "
   ]
  },
  {
   "cell_type": "markdown",
   "metadata": {},
   "source": [
    "# Tipo de Problema\n",
    "+ Problema de recomendação"
   ]
  },
  {
   "cell_type": "markdown",
   "metadata": {},
   "source": [
    "# Features Usadas\n",
    "+ Como é um problema de aprendizado não supervisionado, logo não existe uma label(output). A seguir as features que vão ser usadas: 'index', 'genres', 'id', 'keywords', 'language', 'original_title', 'overview', 'popularity', 'spoken_languages', 'tagline', 'title', 'vote_average', 'num_voted_users', 'title_year', 'country', 'director_name', 'actor_1_name', 'actor_2_name', 'actor_3_name', 'description'. Muitas não são do dataset original, foram derivadas."
   ]
  },
  {
   "cell_type": "markdown",
   "metadata": {},
   "source": [
    "# Metricas de Avaliação Usadas\n",
    "+ Classificação Ponderada  \n",
    "+ Distância Euclidiana  \n",
    "+ Gaussian  \n",
    "+ Cosine"
   ]
  },
  {
   "cell_type": "markdown",
   "metadata": {},
   "source": [
    "## Pré-processamento dos Dados"
   ]
  },
  {
   "cell_type": "markdown",
   "metadata": {},
   "source": [
    "**load_movies():** Função responsável por fazer o carregamento do arquivo que contem os dados sobre os filmes."
   ]
  },
  {
   "cell_type": "code",
   "execution_count": 44,
   "metadata": {},
   "outputs": [],
   "source": [
    "# Função responsável por carregar o arquivo csv com os dados no formato json\n",
    "def load_movies(path):\n",
    "    # Aqui é feito o carregamento do arquivo 'movies' csv\n",
    "    data = pd.read_csv(path)\n",
    "    # Aqui é aplicado uma função lambda na coluna que possui a data de lançamento\n",
    "    data['release_date'] = pd.to_datetime(data['release_date']).apply(lambda x: x.date())\n",
    "    # Aqui é gerado algumas colunas que seu formato no dataset é json\n",
    "    json_columns = ['genres', 'keywords', 'production_countries', 'production_companies', 'spoken_languages']\n",
    "    # Aqui é carrregado as colunas com formato json com a função json.loads\n",
    "    for column in json_columns:\n",
    "        data[column] = data[column].apply(json.loads)\n",
    "    return data"
   ]
  },
  {
   "cell_type": "markdown",
   "metadata": {},
   "source": [
    "**load_credits:** Essa função função é responsavel por fazer o carregamento do arquivo de creditos, onde contem informações importantes sobre os filmes, tais como: Atores, diretor e etc."
   ]
  },
  {
   "cell_type": "code",
   "execution_count": 45,
   "metadata": {},
   "outputs": [],
   "source": [
    "def load_credits(path):\n",
    "    # Aqui é feito o carregamento do arquivo 'credits' csv\n",
    "    data = pd.read_csv(path)\n",
    "    # Aqui é gerado algumas colunas que seu formato no dataset é json\n",
    "    json_columns = ['cast', 'crew']\n",
    "    # Aqui é carrregado as colunas com formato json com a função json.loads\n",
    "    for column in json_columns:\n",
    "        data[column] = data[column].apply(json.loads)\n",
    "    return data"
   ]
  },
  {
   "cell_type": "markdown",
   "metadata": {},
   "source": [
    "+ Aqui é feito apenas a renomeação de algumas colunas do dataset, apenas para melhor visualização."
   ]
  },
  {
   "cell_type": "code",
   "execution_count": 4,
   "metadata": {},
   "outputs": [],
   "source": [
    "# Essas colunas são criadas com o objetivo de deixar os dados mais claros, alguns são renomeadas e outras permanecem iguais\n",
    "COLUMNS_EQUIVALENCIES = {\n",
    "    'budget': 'budget',\n",
    "    'genres': 'genres',\n",
    "    'revenue': 'gross',\n",
    "    'title': 'title',\n",
    "    'runtime': 'duration',\n",
    "    'original_language': 'language',\n",
    "    'keywords': 'keywords',\n",
    "    'vote_count': 'num_voted_users',\n",
    "}"
   ]
  },
  {
   "cell_type": "markdown",
   "metadata": {},
   "source": [
    "**safe_access():** Função já implementada pelo python, sua função é apenas verificar se uma chave existe em dicionario."
   ]
  },
  {
   "cell_type": "code",
   "execution_count": 5,
   "metadata": {},
   "outputs": [],
   "source": [
    "# Essa função verifica se uma chave está em um dicionario\n",
    "# Essa função já está implementado e pode ser encontrada facilmente\n",
    "def safe_access(container, index_values):\n",
    "    result = container\n",
    "    try:\n",
    "        for idx in index_values:\n",
    "            result = result[idx]\n",
    "        return result\n",
    "    except IndexError or KeyError:\n",
    "        return pd.np.nan"
   ]
  },
  {
   "cell_type": "markdown",
   "metadata": {},
   "source": [
    "**get_director():** Essa função é responsavel por retornar o ou os diretores de um filme"
   ]
  },
  {
   "cell_type": "code",
   "execution_count": 46,
   "metadata": {},
   "outputs": [],
   "source": [
    "# Essa função recebe a coluna crew que está em formato json, e devolve o nome do diretor com ajuda da função safe_access\n",
    "def get_director(crew):\n",
    "    directors = [x['name'] for x in crew if x['job'] == 'Director']\n",
    "    return safe_access(directors, [0])"
   ]
  },
  {
   "cell_type": "markdown",
   "metadata": {},
   "source": [
    "**get_words()** Aqui é feito apenas uma formatação nas palavras chaves de cada filme"
   ]
  },
  {
   "cell_type": "code",
   "execution_count": 47,
   "metadata": {},
   "outputs": [],
   "source": [
    "# Essa função devolve as palavras chaves separadas por pipe(|), antes estavam em formato json \n",
    "def get_words(words):\n",
    "    return '|'.join([x['name'] for x in words])"
   ]
  },
  {
   "cell_type": "markdown",
   "metadata": {},
   "source": [
    "**convert():** Aqui é feito a união do dataset movies e com o dataset credicts."
   ]
  },
  {
   "cell_type": "code",
   "execution_count": 48,
   "metadata": {},
   "outputs": [],
   "source": [
    "# Essa função é responsavel por unir os dois datasets, dessa forma fica melhor na hora em que for realizar a recomendação.\n",
    "def convert(dataset_movies, dataset_credits):\n",
    "    # Aqui o dataset movies é copiado para a variavel movies_tmdb\n",
    "    movies = dataset_movies.copy()\n",
    "    # Aqui as colunas do dataset que está em movies_tmdb são renomeadas de acordo com as colunas definidas anteriormente.\n",
    "    # o parametro inplace garante que a alteração seja feita na versão do dataset que está em memoria\n",
    "    movies.rename(columns=COLUMNS_EQUIVALENCIES, inplace=True)\n",
    "    # Aqui é adicionado a nova coluna 'title_year' onde está sendo gerada apartir do ano de lançamento do filme\n",
    "    movies['title_year'] = pd.to_datetime(movies['release_date']).apply(lambda x: x.year)\n",
    "    \n",
    "    # Aqui assumi(baseado em uma leitura que fiz) que o primeiro pais que aparece na coluna é o pais de produção\n",
    "    # É criada a nova conluna country e preenchida com o pais de produção\n",
    "    movies['country'] = movies['production_countries'].apply(lambda x: safe_access(x, [0, 'name']))\n",
    "    # Aqui só é pegado a primeira linguagem que aparece na coluna\n",
    "    movies['language'] = movies['spoken_languages'].apply(lambda x: safe_access(x, [0, 'name']))\n",
    "    # Aqui é identificado o nome do diretor\n",
    "    movies['director_name'] = dataset_credits['crew'].apply(get_director)\n",
    "    movies['actor_1_name'] = dataset_credits['cast'].apply(lambda x: safe_access(x, [1, 'name']))\n",
    "    movies['actor_2_name'] = dataset_credits['cast'].apply(lambda x: safe_access(x, [2, 'name']))\n",
    "    movies['actor_3_name'] = dataset_credits['cast'].apply(lambda x: safe_access(x, [3, 'name']))\n",
    "    movies['genres'] = movies['genres'].apply(get_words)\n",
    "    movies['keywords'] = movies['keywords'].apply(get_words)\n",
    "    return movies"
   ]
  },
  {
   "cell_type": "markdown",
   "metadata": {},
   "source": [
    "+ Aqui é carregado os datasets"
   ]
  },
  {
   "cell_type": "code",
   "execution_count": 49,
   "metadata": {},
   "outputs": [],
   "source": [
    "# Carregamento dos dados\n",
    "dataset_credits = load_credits(\"tmdb-5000-movie-dataset/tmdb_5000_credits.csv\")\n",
    "dataset_movies = load_movies(\"tmdb-5000-movie-dataset/tmdb_5000_movies.csv\")\n",
    "dados = convert(dataset_movies, dataset_credits)"
   ]
  },
  {
   "cell_type": "markdown",
   "metadata": {},
   "source": [
    "Na proxima celula é feita a remoção de colunas do dataset que são de baixa relevancia para a resolução do problema. Essas colunas são removidas, pois podem prejudicar o resultado final."
   ]
  },
  {
   "cell_type": "code",
   "execution_count": 50,
   "metadata": {},
   "outputs": [],
   "source": [
    "# Aqui é feito a remoção de colunas julgadas de pouca relevância\n",
    "dados = dados.drop(['budget', 'homepage', 'gross', 'status', 'duration', 'production_countries', \n",
    "                    'release_date', 'production_companies'], axis=1);"
   ]
  },
  {
   "cell_type": "code",
   "execution_count": 51,
   "metadata": {},
   "outputs": [],
   "source": [
    "dados['title_year'] = dados['title_year'].values.astype(np.int64)"
   ]
  },
  {
   "cell_type": "markdown",
   "metadata": {},
   "source": [
    "#### O dataset final"
   ]
  },
  {
   "cell_type": "code",
   "execution_count": 52,
   "metadata": {},
   "outputs": [
    {
     "data": {
      "text/html": [
       "<div>\n",
       "<style scoped>\n",
       "    .dataframe tbody tr th:only-of-type {\n",
       "        vertical-align: middle;\n",
       "    }\n",
       "\n",
       "    .dataframe tbody tr th {\n",
       "        vertical-align: top;\n",
       "    }\n",
       "\n",
       "    .dataframe thead th {\n",
       "        text-align: right;\n",
       "    }\n",
       "</style>\n",
       "<table border=\"1\" class=\"dataframe\">\n",
       "  <thead>\n",
       "    <tr style=\"text-align: right;\">\n",
       "      <th></th>\n",
       "      <th>genres</th>\n",
       "      <th>id</th>\n",
       "      <th>keywords</th>\n",
       "      <th>language</th>\n",
       "      <th>original_title</th>\n",
       "      <th>overview</th>\n",
       "      <th>popularity</th>\n",
       "      <th>spoken_languages</th>\n",
       "      <th>tagline</th>\n",
       "      <th>title</th>\n",
       "      <th>vote_average</th>\n",
       "      <th>num_voted_users</th>\n",
       "      <th>title_year</th>\n",
       "      <th>country</th>\n",
       "      <th>director_name</th>\n",
       "      <th>actor_1_name</th>\n",
       "      <th>actor_2_name</th>\n",
       "      <th>actor_3_name</th>\n",
       "    </tr>\n",
       "  </thead>\n",
       "  <tbody>\n",
       "    <tr>\n",
       "      <th>0</th>\n",
       "      <td>Action|Adventure|Fantasy|Science Fiction</td>\n",
       "      <td>19995</td>\n",
       "      <td>culture clash|future|space war|space colony|so...</td>\n",
       "      <td>English</td>\n",
       "      <td>Avatar</td>\n",
       "      <td>In the 22nd century, a paraplegic Marine is di...</td>\n",
       "      <td>150.437577</td>\n",
       "      <td>[{'iso_639_1': 'en', 'name': 'English'}, {'iso...</td>\n",
       "      <td>Enter the World of Pandora.</td>\n",
       "      <td>Avatar</td>\n",
       "      <td>7.2</td>\n",
       "      <td>11800</td>\n",
       "      <td>2009</td>\n",
       "      <td>United States of America</td>\n",
       "      <td>James Cameron</td>\n",
       "      <td>Zoe Saldana</td>\n",
       "      <td>Sigourney Weaver</td>\n",
       "      <td>Stephen Lang</td>\n",
       "    </tr>\n",
       "    <tr>\n",
       "      <th>1</th>\n",
       "      <td>Adventure|Fantasy|Action</td>\n",
       "      <td>285</td>\n",
       "      <td>ocean|drug abuse|exotic island|east india trad...</td>\n",
       "      <td>English</td>\n",
       "      <td>Pirates of the Caribbean: At World's End</td>\n",
       "      <td>Captain Barbossa, long believed to be dead, ha...</td>\n",
       "      <td>139.082615</td>\n",
       "      <td>[{'iso_639_1': 'en', 'name': 'English'}]</td>\n",
       "      <td>At the end of the world, the adventure begins.</td>\n",
       "      <td>Pirates of the Caribbean: At World's End</td>\n",
       "      <td>6.9</td>\n",
       "      <td>4500</td>\n",
       "      <td>2007</td>\n",
       "      <td>United States of America</td>\n",
       "      <td>Gore Verbinski</td>\n",
       "      <td>Orlando Bloom</td>\n",
       "      <td>Keira Knightley</td>\n",
       "      <td>Stellan Skarsgård</td>\n",
       "    </tr>\n",
       "    <tr>\n",
       "      <th>2</th>\n",
       "      <td>Action|Adventure|Crime</td>\n",
       "      <td>206647</td>\n",
       "      <td>spy|based on novel|secret agent|sequel|mi6|bri...</td>\n",
       "      <td>Français</td>\n",
       "      <td>Spectre</td>\n",
       "      <td>A cryptic message from Bond’s past sends him o...</td>\n",
       "      <td>107.376788</td>\n",
       "      <td>[{'iso_639_1': 'fr', 'name': 'Français'}, {'is...</td>\n",
       "      <td>A Plan No One Escapes</td>\n",
       "      <td>Spectre</td>\n",
       "      <td>6.3</td>\n",
       "      <td>4466</td>\n",
       "      <td>2015</td>\n",
       "      <td>United Kingdom</td>\n",
       "      <td>Sam Mendes</td>\n",
       "      <td>Christoph Waltz</td>\n",
       "      <td>Léa Seydoux</td>\n",
       "      <td>Ralph Fiennes</td>\n",
       "    </tr>\n",
       "  </tbody>\n",
       "</table>\n",
       "</div>"
      ],
      "text/plain": [
       "                                     genres      id  \\\n",
       "0  Action|Adventure|Fantasy|Science Fiction   19995   \n",
       "1                  Adventure|Fantasy|Action     285   \n",
       "2                    Action|Adventure|Crime  206647   \n",
       "\n",
       "                                            keywords  language  \\\n",
       "0  culture clash|future|space war|space colony|so...   English   \n",
       "1  ocean|drug abuse|exotic island|east india trad...   English   \n",
       "2  spy|based on novel|secret agent|sequel|mi6|bri...  Français   \n",
       "\n",
       "                             original_title  \\\n",
       "0                                    Avatar   \n",
       "1  Pirates of the Caribbean: At World's End   \n",
       "2                                   Spectre   \n",
       "\n",
       "                                            overview  popularity  \\\n",
       "0  In the 22nd century, a paraplegic Marine is di...  150.437577   \n",
       "1  Captain Barbossa, long believed to be dead, ha...  139.082615   \n",
       "2  A cryptic message from Bond’s past sends him o...  107.376788   \n",
       "\n",
       "                                    spoken_languages  \\\n",
       "0  [{'iso_639_1': 'en', 'name': 'English'}, {'iso...   \n",
       "1           [{'iso_639_1': 'en', 'name': 'English'}]   \n",
       "2  [{'iso_639_1': 'fr', 'name': 'Français'}, {'is...   \n",
       "\n",
       "                                          tagline  \\\n",
       "0                     Enter the World of Pandora.   \n",
       "1  At the end of the world, the adventure begins.   \n",
       "2                           A Plan No One Escapes   \n",
       "\n",
       "                                      title  vote_average  num_voted_users  \\\n",
       "0                                    Avatar           7.2            11800   \n",
       "1  Pirates of the Caribbean: At World's End           6.9             4500   \n",
       "2                                   Spectre           6.3             4466   \n",
       "\n",
       "   title_year                   country   director_name     actor_1_name  \\\n",
       "0        2009  United States of America   James Cameron      Zoe Saldana   \n",
       "1        2007  United States of America  Gore Verbinski    Orlando Bloom   \n",
       "2        2015            United Kingdom      Sam Mendes  Christoph Waltz   \n",
       "\n",
       "       actor_2_name       actor_3_name  \n",
       "0  Sigourney Weaver       Stephen Lang  \n",
       "1   Keira Knightley  Stellan Skarsgård  \n",
       "2       Léa Seydoux      Ralph Fiennes  "
      ]
     },
     "execution_count": 52,
     "metadata": {},
     "output_type": "execute_result"
    }
   ],
   "source": [
    "dados.head(3)"
   ]
  },
  {
   "cell_type": "markdown",
   "metadata": {},
   "source": [
    "## Top 10 dos filmes mais bem avaliados.\n",
    "Aqui é utilizada a formula de classificação ponderada do IMDB's, para construir essa classificação. A formula é representada assim:  \n",
    "\n",
    "\n",
    "\\begin{equation}\n",
    "     \\textbf{Classificação Ponderada} = (\\frac{v}{v + m} * R) + (\\frac{m}{v + m} * C)\n",
    "\\end{equation}  \n",
    "\n",
    "* V é numero de votos para o filme\n",
    "* M é o mínimo de votos necessários para o filme ser listado\n",
    "* R é a classificação média do filme\n",
    "* C é a média de votos em todo o dataset\n"
   ]
  },
  {
   "cell_type": "markdown",
   "metadata": {},
   "source": [
    "A seguir é calculado o parametro C, no qual é a media dos votos de todos os filmes. E tambem é calculado a quantidade de votos que cada filme obteve."
   ]
  },
  {
   "cell_type": "code",
   "execution_count": 14,
   "metadata": {},
   "outputs": [
    {
     "name": "stdout",
     "output_type": "stream",
     "text": [
      "Media de votos de todos os filmes:  5.6529252550489275 \n",
      "\n"
     ]
    }
   ],
   "source": [
    "vote_counts = dados[dados['num_voted_users'].notnull()]['num_voted_users'].astype('int')\n",
    "vote_averages = dados[dados['vote_average'].notnull()]['vote_average'].astype('int')\n",
    "C = vote_averages.mean()\n",
    "print(\"Media de votos de todos os filmes: \", C, '\\n')"
   ]
  },
  {
   "cell_type": "markdown",
   "metadata": {},
   "source": [
    "**Nesse proximmo passo é definido um valor minimo de votos para o filme ser classificado (M). Foi definido como parametro de seleção um percentil de 95%, ou seja, para um filme ser classificado ele deve ter mais votos do que 95% da lista toda.**"
   ]
  },
  {
   "cell_type": "code",
   "execution_count": 53,
   "metadata": {},
   "outputs": [
    {
     "name": "stdout",
     "output_type": "stream",
     "text": [
      "Valor minimo de votos:  3040.8999999999996 \n",
      "\n"
     ]
    }
   ],
   "source": [
    "minimo = vote_counts.quantile(0.95)\n",
    "print(\"Valor minimo de votos: \", minimo, '\\n')"
   ]
  },
  {
   "cell_type": "markdown",
   "metadata": {},
   "source": [
    "**Portanto, para se qualificar para ser mostrado no top10, um filme precisa ter pelo menos 3040 votos no TMDB. Também vemos que a classificação média de um filme no TMDB é de 5.652 em uma escala de 10. Os 241 filmes se qualificam para estar em nosso top10 (A seguir é calculado a quantidade de filmes que se qualificam).**"
   ]
  },
  {
   "cell_type": "code",
   "execution_count": 54,
   "metadata": {},
   "outputs": [
    {
     "data": {
      "text/plain": [
       "(241, 6)"
      ]
     },
     "execution_count": 54,
     "metadata": {},
     "output_type": "execute_result"
    }
   ],
   "source": [
    "qualified = dados[(dados['num_voted_users'] >= minimo) & (dados['num_voted_users'].notnull()) & (dados['vote_average'].notnull())][['title', 'title_year', 'num_voted_users', 'vote_average', 'popularity', 'genres']]\n",
    "qualified['num_voted_users'] = qualified['num_voted_users'].astype('int')\n",
    "qualified['vote_average'] = qualified['vote_average'].astype('int')\n",
    "qualified.shape"
   ]
  },
  {
   "cell_type": "markdown",
   "metadata": {},
   "source": [
    "**A seguir é definida a formula para o calculo da classificação.**"
   ]
  },
  {
   "cell_type": "code",
   "execution_count": 55,
   "metadata": {},
   "outputs": [],
   "source": [
    "def weighted_rating(x):\n",
    "    v = x['num_voted_users']\n",
    "    R = x['vote_average']\n",
    "    return (v / (v + minimo) * R) + (minimo / (minimo + v) * C)"
   ]
  },
  {
   "cell_type": "markdown",
   "metadata": {},
   "source": [
    "**Agora vamos criar uma nova coluna onde vai estar o valor da clssificação ponderada para os 241 filmes qualificados.**"
   ]
  },
  {
   "cell_type": "code",
   "execution_count": 56,
   "metadata": {},
   "outputs": [],
   "source": [
    "qualified['weighted_rating'] = qualified.apply(weighted_rating, axis=1)\n",
    "qualified = qualified.sort_values('weighted_rating', ascending=False).head(241)"
   ]
  },
  {
   "cell_type": "markdown",
   "metadata": {},
   "source": [
    "### Agora podemos ver nosso top10"
   ]
  },
  {
   "cell_type": "code",
   "execution_count": 57,
   "metadata": {},
   "outputs": [
    {
     "data": {
      "text/html": [
       "<div>\n",
       "<style scoped>\n",
       "    .dataframe tbody tr th:only-of-type {\n",
       "        vertical-align: middle;\n",
       "    }\n",
       "\n",
       "    .dataframe tbody tr th {\n",
       "        vertical-align: top;\n",
       "    }\n",
       "\n",
       "    .dataframe thead th {\n",
       "        text-align: right;\n",
       "    }\n",
       "</style>\n",
       "<table border=\"1\" class=\"dataframe\">\n",
       "  <thead>\n",
       "    <tr style=\"text-align: right;\">\n",
       "      <th></th>\n",
       "      <th>title</th>\n",
       "      <th>title_year</th>\n",
       "      <th>num_voted_users</th>\n",
       "      <th>vote_average</th>\n",
       "      <th>popularity</th>\n",
       "      <th>genres</th>\n",
       "      <th>weighted_rating</th>\n",
       "    </tr>\n",
       "  </thead>\n",
       "  <tbody>\n",
       "    <tr>\n",
       "      <th>96</th>\n",
       "      <td>Inception</td>\n",
       "      <td>2010</td>\n",
       "      <td>13752</td>\n",
       "      <td>8</td>\n",
       "      <td>167.583710</td>\n",
       "      <td>Action|Thriller|Science Fiction|Mystery|Adventure</td>\n",
       "      <td>7.574986</td>\n",
       "    </tr>\n",
       "    <tr>\n",
       "      <th>65</th>\n",
       "      <td>The Dark Knight</td>\n",
       "      <td>2008</td>\n",
       "      <td>12002</td>\n",
       "      <td>8</td>\n",
       "      <td>187.322927</td>\n",
       "      <td>Drama|Action|Crime|Thriller</td>\n",
       "      <td>7.525542</td>\n",
       "    </tr>\n",
       "    <tr>\n",
       "      <th>95</th>\n",
       "      <td>Interstellar</td>\n",
       "      <td>2014</td>\n",
       "      <td>10867</td>\n",
       "      <td>8</td>\n",
       "      <td>724.247784</td>\n",
       "      <td>Adventure|Drama|Science Fiction</td>\n",
       "      <td>7.486823</td>\n",
       "    </tr>\n",
       "    <tr>\n",
       "      <th>662</th>\n",
       "      <td>Fight Club</td>\n",
       "      <td>1999</td>\n",
       "      <td>9413</td>\n",
       "      <td>8</td>\n",
       "      <td>146.757391</td>\n",
       "      <td>Drama</td>\n",
       "      <td>7.426909</td>\n",
       "    </tr>\n",
       "    <tr>\n",
       "      <th>262</th>\n",
       "      <td>The Lord of the Rings: The Fellowship of the Ring</td>\n",
       "      <td>2001</td>\n",
       "      <td>8705</td>\n",
       "      <td>8</td>\n",
       "      <td>138.049577</td>\n",
       "      <td>Adventure|Fantasy|Action</td>\n",
       "      <td>7.392365</td>\n",
       "    </tr>\n",
       "    <tr>\n",
       "      <th>3232</th>\n",
       "      <td>Pulp Fiction</td>\n",
       "      <td>1994</td>\n",
       "      <td>8428</td>\n",
       "      <td>8</td>\n",
       "      <td>121.463076</td>\n",
       "      <td>Thriller|Crime</td>\n",
       "      <td>7.377689</td>\n",
       "    </tr>\n",
       "    <tr>\n",
       "      <th>1881</th>\n",
       "      <td>The Shawshank Redemption</td>\n",
       "      <td>1994</td>\n",
       "      <td>8205</td>\n",
       "      <td>8</td>\n",
       "      <td>136.747729</td>\n",
       "      <td>Drama|Crime</td>\n",
       "      <td>7.365349</td>\n",
       "    </tr>\n",
       "    <tr>\n",
       "      <th>329</th>\n",
       "      <td>The Lord of the Rings: The Return of the King</td>\n",
       "      <td>2003</td>\n",
       "      <td>8064</td>\n",
       "      <td>8</td>\n",
       "      <td>123.630332</td>\n",
       "      <td>Adventure|Fantasy|Action</td>\n",
       "      <td>7.357291</td>\n",
       "    </tr>\n",
       "    <tr>\n",
       "      <th>809</th>\n",
       "      <td>Forrest Gump</td>\n",
       "      <td>1994</td>\n",
       "      <td>7927</td>\n",
       "      <td>8</td>\n",
       "      <td>138.133331</td>\n",
       "      <td>Comedy|Drama|Romance</td>\n",
       "      <td>7.349263</td>\n",
       "    </tr>\n",
       "    <tr>\n",
       "      <th>330</th>\n",
       "      <td>The Lord of the Rings: The Two Towers</td>\n",
       "      <td>2002</td>\n",
       "      <td>7487</td>\n",
       "      <td>8</td>\n",
       "      <td>106.914973</td>\n",
       "      <td>Adventure|Fantasy|Action</td>\n",
       "      <td>7.322066</td>\n",
       "    </tr>\n",
       "  </tbody>\n",
       "</table>\n",
       "</div>"
      ],
      "text/plain": [
       "                                                  title  title_year  \\\n",
       "96                                            Inception        2010   \n",
       "65                                      The Dark Knight        2008   \n",
       "95                                         Interstellar        2014   \n",
       "662                                          Fight Club        1999   \n",
       "262   The Lord of the Rings: The Fellowship of the Ring        2001   \n",
       "3232                                       Pulp Fiction        1994   \n",
       "1881                           The Shawshank Redemption        1994   \n",
       "329       The Lord of the Rings: The Return of the King        2003   \n",
       "809                                        Forrest Gump        1994   \n",
       "330               The Lord of the Rings: The Two Towers        2002   \n",
       "\n",
       "      num_voted_users  vote_average  popularity  \\\n",
       "96              13752             8  167.583710   \n",
       "65              12002             8  187.322927   \n",
       "95              10867             8  724.247784   \n",
       "662              9413             8  146.757391   \n",
       "262              8705             8  138.049577   \n",
       "3232             8428             8  121.463076   \n",
       "1881             8205             8  136.747729   \n",
       "329              8064             8  123.630332   \n",
       "809              7927             8  138.133331   \n",
       "330              7487             8  106.914973   \n",
       "\n",
       "                                                 genres  weighted_rating  \n",
       "96    Action|Thriller|Science Fiction|Mystery|Adventure         7.574986  \n",
       "65                          Drama|Action|Crime|Thriller         7.525542  \n",
       "95                      Adventure|Drama|Science Fiction         7.486823  \n",
       "662                                               Drama         7.426909  \n",
       "262                            Adventure|Fantasy|Action         7.392365  \n",
       "3232                                     Thriller|Crime         7.377689  \n",
       "1881                                        Drama|Crime         7.365349  \n",
       "329                            Adventure|Fantasy|Action         7.357291  \n",
       "809                                Comedy|Drama|Romance         7.349263  \n",
       "330                            Adventure|Fantasy|Action         7.322066  "
      ]
     },
     "execution_count": 57,
     "metadata": {},
     "output_type": "execute_result"
    }
   ],
   "source": [
    "qualified.head(10)"
   ]
  },
  {
   "cell_type": "markdown",
   "metadata": {},
   "source": [
    "# Sistema de Recomendação"
   ]
  },
  {
   "cell_type": "markdown",
   "metadata": {},
   "source": [
    "### Funções básicas:\n",
    "    1. Determinar N filmes com um conteúdo semelhante ao fornecido pelo usuário.\n",
    "    2. Selecionar os 5 filmes mais populares entre esses N filmes."
   ]
  },
  {
   "cell_type": "markdown",
   "metadata": {},
   "source": [
    "**Calculando a Similaridade**  \n",
    "    A primeira coisa a fazer é definir um criterio que compute o quão dois filmes são próximos. Para isso, é necessário extrair algumas informações do filme selecionado pelo usuário, tais como: nome do diretor, os nomes dos atores e algumas palavras-chaves. Com isso construo uma matriz onde cada linha corresponde a um filme do dataset e onde as colunas correspondem às informações anteriores (diretor + atores + palavras-chave) mais os k gêneros.  \n",
    "    \n",
    "Nesta matriz, os coeficientes Mij tomam o valor 0 ou 1 dependendo da correspondência entre o significado da coluna j e o conteúdo do filme i. Por exemplo, se \"palavra-chave1\" estiver no filme i, teremos Mij = 1 e 0 caso contrário. Uma vez que esta matriz tenha sido definida, determinamos a distância entre dois filmes de acordo com:  \n",
    "\n",
    "\\begin{equation}\n",
    "     d_{j,n} = \\sqrt{\\sum_{i=1}^{N} (M_{j,i} - M_{n,i})^2}\n",
    "\\end{equation}  \n",
    "\n"
   ]
  },
  {
   "cell_type": "markdown",
   "metadata": {},
   "source": [
    "**Calculando a Popularidade**  \n",
    "De acordo com as semelhanças entre o filme dado como entrada e o restante do dataset é gerado uma lista de N=50 filmes. Dessa lista seleciono 5, baseado em uma nota que será calculada com os seguintes criterios:\n",
    "+ A pontuação do IMDB\n",
    "+ O número de votos que o filme recebeu\n",
    "+ O ano do lançamento  \n",
    "\n",
    "A nota vai ser calculada com a seguinte formula:\n",
    "\\begin{equation}\n",
    "     score = IMDB^2\\ \\times\\ \\phi_{\\sigma_{1}, c_{1}}\\ \\times\\ \\phi_{\\sigma_{2}, c_{2}}\n",
    "\\end{equation}  \n",
    "\n",
    "Onde $\\phi$ é uma função Gaussian:  \n",
    "\\begin{equation}\n",
    "     \\phi_{\\sigma, c}(x)\\ \\infty\\ exp \\bigg(-\\frac{(x - c)^2}{2\\sigma^2}\\bigg)\n",
    "\\end{equation}"
   ]
  },
  {
   "cell_type": "markdown",
   "metadata": {},
   "source": [
    "### Definição da Função Gaussian"
   ]
  },
  {
   "cell_type": "code",
   "execution_count": 20,
   "metadata": {},
   "outputs": [],
   "source": [
    "gaussian = lambda x, y, sigma: np.exp(-(x - y) ** 2 / (2 * sigma ** 2))"
   ]
  },
  {
   "cell_type": "markdown",
   "metadata": {},
   "source": [
    "**A função capture_director_actor_keywords()** retorna os valores tomados pelas colunas 'director_name', 'actor_N_name' e 'keywords' para o filme selecionado pelo usuário."
   ]
  },
  {
   "cell_type": "code",
   "execution_count": 21,
   "metadata": {},
   "outputs": [],
   "source": [
    "def capture_director_actor_keywords(df, id_): \n",
    "    col_labels = []    \n",
    "    if pd.notnull(df['director_name'].iloc[id_]):\n",
    "        for name in df['director_name'].iloc[id_].split('|'):\n",
    "            col_labels.append(name)\n",
    "            \n",
    "    for i in range(3):\n",
    "        column = 'actor_NUM_name'.replace('NUM', str(i + 1))\n",
    "        if pd.notnull(df[column].iloc[id_]):\n",
    "            for name in df[column].iloc[id_].split('|'):\n",
    "                col_labels.append(name)\n",
    "                \n",
    "    if pd.notnull(df['keywords'].iloc[id_]):\n",
    "        for word in df['keywords'].iloc[id_].split('|'):\n",
    "            col_labels.append(word)\n",
    "    return col_labels"
   ]
  },
  {
   "cell_type": "markdown",
   "metadata": {},
   "source": [
    "**A função add_variables()** adiciona uma lista de variáveis ao dataset dado na entrada e inicializa estas variáveis com 0 ou 1 dependendo da correspondência com a descrição dos filmes e o conteúdo da variável var dada na entrada."
   ]
  },
  {
   "cell_type": "code",
   "execution_count": 22,
   "metadata": {},
   "outputs": [],
   "source": [
    "def add_variables(df, var):    \n",
    "    for s in var: df[s] = pd.Series([0 for _ in range(len(df))])\n",
    "    colonnes = ['genres', 'actor_1_name', 'actor_2_name',\n",
    "                'actor_3_name', 'director_name', 'keywords']\n",
    "    for categorie in colonnes:\n",
    "        for index, row in df.iterrows():\n",
    "            if pd.isnull(row[categorie]): continue\n",
    "            for name in row[categorie].split('|'):\n",
    "                if name in var: df.set_value(index, name, 1)            \n",
    "    return df"
   ]
  },
  {
   "cell_type": "markdown",
   "metadata": {},
   "source": [
    " **A função recommand()** cria uma lista de N=50 filmes similares ao filme selecionado pelo usuário."
   ]
  },
  {
   "cell_type": "code",
   "execution_count": 23,
   "metadata": {},
   "outputs": [],
   "source": [
    "def recommand(df, id_):    \n",
    "    df_copy = df.copy(deep = True)    \n",
    "    liste_genres = set()\n",
    "    for s in df['genres'].str.split('|').values:\n",
    "        liste_genres = liste_genres.union(set(s))    \n",
    "    # Criada uma variavel adicional para chegar a similaridade\n",
    "    variables = capture_director_actor_keywords(df_copy, id_)\n",
    "    variables += list(liste_genres)\n",
    "    df_new = add_variables(df_copy, variables)\n",
    "\n",
    "    X = df_new.as_matrix(variables)\n",
    "    model_nbrs = NearestNeighbors(n_neighbors=50, algorithm='auto', metric='euclidean').fit(X)\n",
    "\n",
    "    distances, indices = model_nbrs.kneighbors(X)    \n",
    "    xtest = df_new.iloc[id_].as_matrix(variables)\n",
    "    xtest = xtest.reshape(1, -1)\n",
    "\n",
    "    distances, indices = model_nbrs.kneighbors(xtest)\n",
    "    return indices[0][:]"
   ]
  },
  {
   "cell_type": "markdown",
   "metadata": {},
   "source": [
    "**A função sequel()** compara 2 títulos de filmes dados na entrada e define se estes títulos são semelhantes ou não."
   ]
  },
  {
   "cell_type": "code",
   "execution_count": 24,
   "metadata": {},
   "outputs": [],
   "source": [
    "def sequel(titre_1, titre_2):    \n",
    "    if fuzz.ratio(titre_1, titre_2) > 50 or fuzz.token_set_ratio(titre_1, titre_2) > 50:\n",
    "        return True\n",
    "    else:\n",
    "        return False"
   ]
  },
  {
   "cell_type": "markdown",
   "metadata": {},
   "source": [
    "**A função critere_selection()** da uma nota a um filme, dependendo da sua pontuação no IMDB, o ano do título e o número de usuários que votaram para este filme."
   ]
  },
  {
   "cell_type": "code",
   "execution_count": 25,
   "metadata": {},
   "outputs": [],
   "source": [
    "def critere_selection(title_main, max_users, year_ref, titre, year, imdb_score, votes):    \n",
    "    if pd.notnull(year_ref):\n",
    "        facteur_1 = gaussian(year_ref, year, 20)\n",
    "    else:\n",
    "        facteur_1 = 1        \n",
    "\n",
    "    sigma = max_users * 1.0\n",
    "\n",
    "    if pd.notnull(votes):\n",
    "        facteur_2 = gaussian(votes, max_users, sigma)\n",
    "    else:\n",
    "        facteur_2 = 0\n",
    "        \n",
    "    if sequel(title_main, titre):\n",
    "        note = 0\n",
    "    else:\n",
    "        note = imdb_score ** 2 * facteur_1 * facteur_2\n",
    "    return note"
   ]
  },
  {
   "cell_type": "markdown",
   "metadata": {},
   "source": [
    "**A função extract_parameters()** extrai algumas variáveis do dataset dado na entrada e retorna uma lista para a seleção de N filmes. Esta lista é ordenada de acordo com os critérios estabelecidos na função critere_selection()."
   ]
  },
  {
   "cell_type": "code",
   "execution_count": 26,
   "metadata": {},
   "outputs": [],
   "source": [
    "def extract_parameters(df, list_films):     \n",
    "    parametres_films = ['_' for _ in range(50)]\n",
    "    i = 0\n",
    "    max_users = -1\n",
    "    for index in list_films:\n",
    "        parametres_films[i] = list(df.iloc[index][['title', 'title_year', 'imdb_score', 'num_user_for_reviews', 'num_voted_users']])\n",
    "        parametres_films[i].append(index)\n",
    "        max_users = max(max_users, parametres_films[i][4] )\n",
    "        i += 1\n",
    "        \n",
    "    title_main = parametres_films[0][0]\n",
    "    year_ref  = parametres_films[0][1]\n",
    "    parametres_films.sort(key = lambda x: critere_selection(title_main, max_users, year_ref, x[0], x[1], x[2], x[4]), reverse = True)\n",
    "    return parametres_films "
   ]
  },
  {
   "cell_type": "markdown",
   "metadata": {},
   "source": [
    "**A função add_to_selection()** completa a lista film_selection que contém 5 filmes que serão recomendados ao usuário. Os filmes são selecionados na lista parametres_films."
   ]
  },
  {
   "cell_type": "code",
   "execution_count": 27,
   "metadata": {},
   "outputs": [],
   "source": [
    "def add_to_selection(film_selection, parametres_films):    \n",
    "    film_list = film_selection[:]\n",
    "    count = len(film_list)    \n",
    "    for i in range(50):\n",
    "        already_in_list = False\n",
    "        for film in film_selection:\n",
    "            if film[0] == parametres_films[i][0]: already_in_list = True\n",
    "            if sequel(parametres_films[i][0], film[0]): already_in_list = True            \n",
    "        if already_in_list: continue\n",
    "        count += 1\n",
    "        if count <= 5:\n",
    "            film_list.append(parametres_films[i])\n",
    "    return film_list"
   ]
  },
  {
   "cell_type": "markdown",
   "metadata": {},
   "source": [
    "**A função remove_sequels()** remove os filmes da lista se mais de dois filmes de uma mesma série estiverem presentes. O mais antigo é mantido."
   ]
  },
  {
   "cell_type": "code",
   "execution_count": 28,
   "metadata": {},
   "outputs": [],
   "source": [
    "def remove_sequels(film_selection):    \n",
    "    removed_from_selection = []\n",
    "    for i, film_1 in enumerate(film_selection):\n",
    "        for j, film_2 in enumerate(film_selection):\n",
    "            if j <= i: continue \n",
    "            if sequel(film_1[0], film_2[0]): \n",
    "                last_film = film_2[0] if film_1[1] < film_2[1] else film_1[0]\n",
    "                removed_from_selection.append(last_film)\n",
    "\n",
    "    film_list = [film for film in film_selection if film[0] not in removed_from_selection]\n",
    "    return film_list"
   ]
  },
  {
   "cell_type": "markdown",
   "metadata": {},
   "source": [
    "**Função find_similarities()** cria uma lista com 5 filmes e recomenda ao usuário"
   ]
  },
  {
   "cell_type": "code",
   "execution_count": 29,
   "metadata": {},
   "outputs": [],
   "source": [
    "def find_similarities(df, id_, del_sequels=True, verbose=False):    \n",
    "    if verbose: \n",
    "        print('\\n' + \"CONSULTA: Filmes similares ao id={} -> '{}'\".format(id_, df.iloc[id_]['title']))\n",
    "\n",
    "    liste_films = recommand(df, id_)\n",
    "    # Criada a lista com 50 filmes\n",
    "    parametres_films = extract_parameters(df, liste_films)\n",
    "    # Selecionado 5 filmes da lista com 50\n",
    "    film_selection = []\n",
    "    film_selection = add_to_selection(film_selection, parametres_films)\n",
    "    # Excluindo repetidos, se houver\n",
    "    if del_sequels: film_selection = remove_sequels(film_selection)\n",
    "    # Adicionando novos filmes a lista, caso tenha sido excluido algum\n",
    "    film_selection = add_to_selection(film_selection, parametres_films)\n",
    "\n",
    "    selection_titres = []\n",
    "    for i, x in enumerate(film_selection):\n",
    "        selection_titres.append([x[0].replace(u'\\xa0', u''), x[5]])\n",
    "        if verbose: print(\"nº{:<2}     -> {:<50}\".format(i + 1, x[0]))\n",
    "\n",
    "    return selection_titres"
   ]
  },
  {
   "cell_type": "code",
   "execution_count": null,
   "metadata": {},
   "outputs": [],
   "source": []
  },
  {
   "cell_type": "code",
   "execution_count": 30,
   "metadata": {},
   "outputs": [
    {
     "name": "stdout",
     "output_type": "stream",
     "text": [
      "\n",
      "CONSULTA: Filmes similares ao id=0 -> 'Avatar'\n",
      "nº1      -> Avatar                                            \n",
      "nº2      -> Star Trek Into Darkness                           \n",
      "nº3      -> John Carter                                       \n",
      "nº4      -> Pirates of the Caribbean: On Stranger Tides       \n",
      "nº5      -> The Fifth Element                                 \n"
     ]
    }
   ],
   "source": [
    "aux = find_similarities(dados, 0, del_sequels=False, verbose=True)"
   ]
  },
  {
   "cell_type": "code",
   "execution_count": 31,
   "metadata": {},
   "outputs": [
    {
     "name": "stdout",
     "output_type": "stream",
     "text": [
      "\n",
      "CONSULTA: Filmes similares ao id=0 -> 'Avatar'\n",
      "nº1      -> Avatar                                            \n",
      "nº2      -> Star Trek Into Darkness                           \n",
      "nº3      -> John Carter                                       \n",
      "nº4      -> Pirates of the Caribbean: On Stranger Tides       \n",
      "nº5      -> The Fifth Element                                 \n"
     ]
    }
   ],
   "source": [
    "aux = find_similarities(dados, 0, del_sequels=True, verbose=True)"
   ]
  },
  {
   "cell_type": "code",
   "execution_count": null,
   "metadata": {},
   "outputs": [],
   "source": []
  },
  {
   "cell_type": "code",
   "execution_count": null,
   "metadata": {},
   "outputs": [],
   "source": []
  },
  {
   "cell_type": "code",
   "execution_count": null,
   "metadata": {},
   "outputs": [],
   "source": []
  },
  {
   "cell_type": "code",
   "execution_count": null,
   "metadata": {},
   "outputs": [],
   "source": []
  },
  {
   "cell_type": "code",
   "execution_count": 32,
   "metadata": {},
   "outputs": [
    {
     "data": {
      "text/plain": [
       "Index(['genres', 'id', 'keywords', 'language', 'original_title', 'overview',\n",
       "       'popularity', 'spoken_languages', 'tagline', 'title', 'vote_average',\n",
       "       'num_voted_users', 'title_year', 'country', 'director_name',\n",
       "       'actor_1_name', 'actor_2_name', 'actor_3_name'],\n",
       "      dtype='object')"
      ]
     },
     "execution_count": 32,
     "metadata": {},
     "output_type": "execute_result"
    }
   ],
   "source": [
    "dados.columns"
   ]
  },
  {
   "cell_type": "code",
   "execution_count": 33,
   "metadata": {},
   "outputs": [],
   "source": [
    "temp = dados['id']"
   ]
  },
  {
   "cell_type": "code",
   "execution_count": 34,
   "metadata": {},
   "outputs": [],
   "source": [
    "temp['tagline'] = dados['tagline'].fillna('')\n",
    "temp['description'] = dados['overview'] + dados['tagline']\n",
    "\n",
    "dados['description'] = temp['description'].fillna('')"
   ]
  },
  {
   "cell_type": "code",
   "execution_count": 35,
   "metadata": {},
   "outputs": [],
   "source": [
    "model_tf = TfidfVectorizer(analyzer='word', ngram_range=(1, 2), min_df=0, stop_words='english')\n",
    "tfidf_matrix = model_tf.fit_transform(dados['description'])"
   ]
  },
  {
   "cell_type": "markdown",
   "metadata": {},
   "source": [
    "**Cosine de Similaridade**  \n",
    "Usando a semelhança Cosine para calcular a semelhança entre dois filmes. Definida da seguinte forma:  \n",
    "\\begin{equation}\n",
    "     cosine(x, y) = \\frac{x \\cdot y^T}{\\left \\| x \\right \\| \\cdot \\left \\| y \\right \\|}\n",
    "\\end{equation}  \n",
    "\n",
    "Uma vez que usamos o Vectorizador TF-IDF, ele fornecerá diretamente o Índice de Similaridade do Cosine."
   ]
  },
  {
   "cell_type": "code",
   "execution_count": 36,
   "metadata": {},
   "outputs": [],
   "source": [
    "cosine = linear_kernel(tfidf_matrix, tfidf_matrix)"
   ]
  },
  {
   "cell_type": "code",
   "execution_count": null,
   "metadata": {},
   "outputs": [],
   "source": []
  },
  {
   "cell_type": "code",
   "execution_count": 37,
   "metadata": {},
   "outputs": [],
   "source": [
    "dados = dados.reset_index()\n",
    "titles = dados['title']\n",
    "indices = pd.Series(dados.index, index=dados['title'])"
   ]
  },
  {
   "cell_type": "code",
   "execution_count": 38,
   "metadata": {},
   "outputs": [],
   "source": [
    "def get_recommendations(title):\n",
    "    idx = indices[title]\n",
    "    scores = list(enumerate(cosine[idx]))\n",
    "    scores = sorted(scores, key=lambda x: x[1], reverse=True)\n",
    "    scores = scores[1:31]\n",
    "    movie_indices = [i[0] for i in scores]\n",
    "    return titles.iloc[movie_indices]"
   ]
  },
  {
   "cell_type": "code",
   "execution_count": 40,
   "metadata": {},
   "outputs": [
    {
     "data": {
      "text/plain": [
       "634                                     The Matrix\n",
       "3604                                     Apollo 18\n",
       "529                               Tears of the Sun\n",
       "369     Lara Croft Tomb Raider: The Cradle of Life\n",
       "312                                     Green Zone\n",
       "Name: title, dtype: object"
      ]
     },
     "execution_count": 40,
     "metadata": {},
     "output_type": "execute_result"
    }
   ],
   "source": [
    "get_recommendations('Avatar').head(5)"
   ]
  },
  {
   "cell_type": "code",
   "execution_count": null,
   "metadata": {},
   "outputs": [],
   "source": []
  },
  {
   "cell_type": "code",
   "execution_count": null,
   "metadata": {},
   "outputs": [],
   "source": []
  },
  {
   "cell_type": "code",
   "execution_count": null,
   "metadata": {},
   "outputs": [],
   "source": []
  },
  {
   "cell_type": "code",
   "execution_count": null,
   "metadata": {},
   "outputs": [],
   "source": []
  }
 ],
 "metadata": {
  "kernelspec": {
   "display_name": "Python 3",
   "language": "python",
   "name": "python3"
  },
  "language_info": {
   "codemirror_mode": {
    "name": "ipython",
    "version": 3
   },
   "file_extension": ".py",
   "mimetype": "text/x-python",
   "name": "python",
   "nbconvert_exporter": "python",
   "pygments_lexer": "ipython3",
   "version": "3.6.4"
  }
 },
 "nbformat": 4,
 "nbformat_minor": 2
}
